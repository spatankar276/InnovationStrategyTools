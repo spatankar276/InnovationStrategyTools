{
 "cells": [
  {
   "cell_type": "code",
   "execution_count": 1,
   "metadata": {},
   "outputs": [],
   "source": [
    "import pandas as pd\n",
    "import numpy as np\n",
    "import matplotlib.pyplot as plt\n",
    "import seaborn as sns\n",
    "import tweepy\n",
    "\n",
    "from nltk.classify import NaiveBayesClassifier\n",
    "from nltk.corpus import subjectivity\n",
    "from nltk.sentiment import SentimentAnalyzer\n",
    "from nltk.sentiment import SentimentIntensityAnalyzer\n",
    "from nltk.sentiment.util import *"
   ]
  },
  {
   "cell_type": "code",
   "execution_count": 2,
   "metadata": {},
   "outputs": [],
   "source": [
    "sid= SentimentIntensityAnalyzer()"
   ]
  },
  {
   "cell_type": "code",
   "execution_count": 3,
   "metadata": {},
   "outputs": [],
   "source": [
    "consumer_key = 'RK9gel4LdospFlZUiAAZVK2Rf' \n",
    "consumer_secret = 'mFc3TXKaVt6KK5eh0mewOWwChT9UY6Qv3JZyhRaSxmBPIBqqlQ' \n",
    "access_token = '1041680613269397506-TCLWGLxvEa3X93YKZKl1anVr6SHE3Q'\n",
    "access_token_secret = 'B5m3pPeGHblBHLvuFZAYR0qQo9EGQSvxz9iaUMkgKV8g2'"
   ]
  },
  {
   "cell_type": "code",
   "execution_count": 4,
   "metadata": {},
   "outputs": [],
   "source": [
    "# Creating the authentication object\n",
    "auth = tweepy.OAuthHandler(consumer_key, consumer_secret)\n",
    "# Setting your access token and secret\n",
    "auth.set_access_token(access_token, access_token_secret)\n",
    "# Creating the API object while passing in auth information\n",
    "api = tweepy.API(auth) "
   ]
  },
  {
   "cell_type": "code",
   "execution_count": 5,
   "metadata": {},
   "outputs": [],
   "source": [
    "# Creating the API object while passing in auth information\n",
    "api = tweepy.API(auth)\n",
    "\n",
    "# The search term you want to find\n",
    "query = \"fries\"\n",
    "# Language code (follows ISO 639-1 standards)\n",
    "language = \"en\"\n",
    "\n",
    "# Calling the user_timeline function with our parameters\n",
    "results = api.search(q=query, lang=language)"
   ]
  },
  {
   "cell_type": "code",
   "execution_count": 6,
   "metadata": {},
   "outputs": [
    {
     "name": "stdout",
     "output_type": "stream",
     "text": [
      "RT @ders808: cheese fries taste like 1998\n",
      "RT @RukaTrue_: I remember I was talking to this nigga and he was telling me to come over cause he was cooking. It was like 11pm I got there…\n",
      "@leonrestaurants TFW you’ve just done an epic spin class just so you can eat Leon fries &amp; they miss them off your o… https://t.co/EcfgmjKyyw\n",
      "@ForeverMEM85 Come on cuz you know I got a little bit of everything. Popcorn, chicken, fries, you name it I ate it!\n",
      "RT @BLanaghan: Right after your girl says she doesn’t want fries https://t.co/KdFwGpLWna\n",
      "French Fries and French toast French Kissing French Girls\n",
      "RT @RukaTrue_: I remember I was talking to this nigga and he was telling me to come over cause he was cooking. It was like 11pm I got there…\n",
      "@YourGodMother1 @ms_phina Fries dipped in a vanilla shake.\n",
      "find someone who looks at you the way @PRICEplaysdrums looks at fries #TrueLove https://t.co/Lsfe2MxBJd\n",
      "RT @MaijaKoko: Remember how happy Jungkook was when he got ketchup on his fries :( @BTS_twt https://t.co/RwpvCnaIWv\n",
      "Just bring her a big ass order of fries when she’s pmsing\n",
      "legit almost choked on my fries seeing this guy hes so ugly!!! he almost killed me!!! https://t.co/AmK2R3RVLv\n",
      "RT @BLanaghan: Right after your girl says she doesn’t want fries https://t.co/KdFwGpLWna\n",
      "I am severely craving cheese fries from chili’s\n",
      "@tedcruz do you see how stupid you look &amp; sound?? @BetoORourke must win &amp; let you retire or find a job you care abo… https://t.co/GKvVsHtv8k\n"
     ]
    }
   ],
   "source": [
    "# foreach through all tweets pulled\n",
    "for tweet in results:\n",
    "   # printing the text stored inside the tweet object\n",
    "   print(tweet.text)"
   ]
  },
  {
   "cell_type": "code",
   "execution_count": 7,
   "metadata": {},
   "outputs": [],
   "source": [
    "tweet_terms = ['McCain Foods', 'Vegan', 'Natural', 'McCain Smiles', 'Frozen Potatoes', 'French Fries']"
   ]
  },
  {
   "cell_type": "code",
   "execution_count": 8,
   "metadata": {},
   "outputs": [],
   "source": [
    "tweet_sent_dict = {}"
   ]
  },
  {
   "cell_type": "code",
   "execution_count": 24,
   "metadata": {},
   "outputs": [],
   "source": [
    "tweet_df = None\n",
    "for term in tweet_terms:\n",
    "    results = api.search(q = term, lang = language)\n",
    "    temp_tweet = []\n",
    "    for a in results:\n",
    "        temp_tweet.append(a.text)\n",
    "    \n",
    "    temp_df = pd.DataFrame({term : temp_tweet})\n",
    "    \n",
    "    score_list = []\n",
    "    \n",
    "    for t in temp_df[term]:\n",
    "        score_list.append(list(sid.polarity_scores(t).values())[3])\n",
    "        \n",
    "    average  = sum(score_list) / float(len(score_list))\n",
    "    \n",
    "    tweet_sent_dict[term] = average\n",
    "    \n",
    "    \n",
    "    \n",
    "    \n",
    "    \n",
    "    \n",
    "    #if tweet_df is None:\n",
    "    #    tweet_df = pd.DataFrame({term : temp_tweet})\n",
    "    #else:\n",
    "    #    tweet_df.concat(a, axis = 1)"
   ]
  },
  {
   "cell_type": "code",
   "execution_count": 25,
   "metadata": {},
   "outputs": [
    {
     "data": {
      "text/plain": [
       "{'McCain Foods': -0.04122,\n",
       " 'Vegan': 0.20459333333333335,\n",
       " 'Natural': 0.24932666666666667,\n",
       " 'McCain Smiles': 0.39965,\n",
       " 'Frozen Potatoes': 0.027459999999999988,\n",
       " 'French Fries': 0.19406}"
      ]
     },
     "execution_count": 25,
     "metadata": {},
     "output_type": "execute_result"
    }
   ],
   "source": [
    "tweet_sent_dict"
   ]
  },
  {
   "cell_type": "code",
   "execution_count": 32,
   "metadata": {},
   "outputs": [],
   "source": [
    "sentiment = pd.DataFrame({'Hashtag' : list(tweet_sent_dict.keys()), 'Sentiment Score' : list(tweet_sent_dict.values())})"
   ]
  },
  {
   "cell_type": "code",
   "execution_count": 44,
   "metadata": {},
   "outputs": [
    {
     "data": {
      "text/html": [
       "<div>\n",
       "<style scoped>\n",
       "    .dataframe tbody tr th:only-of-type {\n",
       "        vertical-align: middle;\n",
       "    }\n",
       "\n",
       "    .dataframe tbody tr th {\n",
       "        vertical-align: top;\n",
       "    }\n",
       "\n",
       "    .dataframe thead th {\n",
       "        text-align: right;\n",
       "    }\n",
       "</style>\n",
       "<table border=\"1\" class=\"dataframe\">\n",
       "  <thead>\n",
       "    <tr style=\"text-align: right;\">\n",
       "      <th></th>\n",
       "      <th>Hashtag</th>\n",
       "      <th>Sentiment Score</th>\n",
       "    </tr>\n",
       "  </thead>\n",
       "  <tbody>\n",
       "    <tr>\n",
       "      <th>0</th>\n",
       "      <td>McCain Foods</td>\n",
       "      <td>-0.041220</td>\n",
       "    </tr>\n",
       "    <tr>\n",
       "      <th>1</th>\n",
       "      <td>Vegan</td>\n",
       "      <td>0.204593</td>\n",
       "    </tr>\n",
       "    <tr>\n",
       "      <th>2</th>\n",
       "      <td>Natural</td>\n",
       "      <td>0.249327</td>\n",
       "    </tr>\n",
       "    <tr>\n",
       "      <th>3</th>\n",
       "      <td>McCain Smiles</td>\n",
       "      <td>0.399650</td>\n",
       "    </tr>\n",
       "    <tr>\n",
       "      <th>4</th>\n",
       "      <td>Frozen Potatoes</td>\n",
       "      <td>0.027460</td>\n",
       "    </tr>\n",
       "    <tr>\n",
       "      <th>5</th>\n",
       "      <td>French Fries</td>\n",
       "      <td>0.194060</td>\n",
       "    </tr>\n",
       "  </tbody>\n",
       "</table>\n",
       "</div>"
      ],
      "text/plain": [
       "           Hashtag  Sentiment Score\n",
       "0     McCain Foods        -0.041220\n",
       "1            Vegan         0.204593\n",
       "2          Natural         0.249327\n",
       "3    McCain Smiles         0.399650\n",
       "4  Frozen Potatoes         0.027460\n",
       "5     French Fries         0.194060"
      ]
     },
     "execution_count": 44,
     "metadata": {},
     "output_type": "execute_result"
    }
   ],
   "source": [
    "sentiment"
   ]
  },
  {
   "cell_type": "code",
   "execution_count": 45,
   "metadata": {},
   "outputs": [],
   "source": [
    "sentiment['Sentiment Score'] = pd.to_numeric(sentiment['Sentiment Score'])"
   ]
  },
  {
   "cell_type": "code",
   "execution_count": 69,
   "metadata": {},
   "outputs": [
    {
     "ename": "TypeError",
     "evalue": "'str' object is not callable",
     "output_type": "error",
     "traceback": [
      "\u001b[1;31m---------------------------------------------------------------------------\u001b[0m",
      "\u001b[1;31mTypeError\u001b[0m                                 Traceback (most recent call last)",
      "\u001b[1;32m<ipython-input-69-c4752997d2a6>\u001b[0m in \u001b[0;36m<module>\u001b[1;34m()\u001b[0m\n\u001b[0;32m      1\u001b[0m \u001b[0mplt\u001b[0m\u001b[1;33m.\u001b[0m\u001b[0mfigure\u001b[0m\u001b[1;33m(\u001b[0m\u001b[0mfigsize\u001b[0m \u001b[1;33m=\u001b[0m \u001b[1;33m(\u001b[0m\u001b[1;36m20\u001b[0m\u001b[1;33m,\u001b[0m\u001b[1;36m10\u001b[0m\u001b[1;33m)\u001b[0m\u001b[1;33m)\u001b[0m\u001b[1;33m\u001b[0m\u001b[0m\n\u001b[0;32m      2\u001b[0m \u001b[0mplt\u001b[0m\u001b[1;33m.\u001b[0m\u001b[0mstem\u001b[0m\u001b[1;33m(\u001b[0m\u001b[0msentiment\u001b[0m\u001b[1;33m[\u001b[0m\u001b[1;34m'Hashtag'\u001b[0m\u001b[1;33m]\u001b[0m\u001b[1;33m,\u001b[0m \u001b[0msentiment\u001b[0m\u001b[1;33m[\u001b[0m\u001b[1;34m'Sentiment Score'\u001b[0m\u001b[1;33m]\u001b[0m\u001b[1;33m)\u001b[0m\u001b[1;33m\u001b[0m\u001b[0m\n\u001b[1;32m----> 3\u001b[1;33m \u001b[0mplt\u001b[0m\u001b[1;33m.\u001b[0m\u001b[0mtitle\u001b[0m\u001b[1;33m(\u001b[0m\u001b[1;34m\"Twitter Hashtag Sentiment\"\u001b[0m\u001b[1;33m)\u001b[0m\u001b[1;33m\u001b[0m\u001b[0m\n\u001b[0m",
      "\u001b[1;31mTypeError\u001b[0m: 'str' object is not callable"
     ]
    },
    {
     "data": {
      "image/png": "[encoded data removed]",
      "text/plain": [
       "<Figure size 1440x720 with 1 Axes>"
      ]
     },
     "metadata": {},
     "output_type": "display_data"
    }
   ],
   "source": [
    "plt.figure(figsize = (20,10))\n",
    "plt.stem(sentiment['Hashtag'], sentiment['Sentiment Score'])\n",
    "plt.title(\"Twitter Hashtag Sentiment\")"
   ]
  },
  {
   "cell_type": "code",
   "execution_count": 62,
   "metadata": {},
   "outputs": [
    {
     "ename": "AttributeError",
     "evalue": "'StemContainer' object has no attribute 'set_title'",
     "output_type": "error",
     "traceback": [
      "\u001b[1;31m---------------------------------------------------------------------------\u001b[0m",
      "\u001b[1;31mAttributeError\u001b[0m                            Traceback (most recent call last)",
      "\u001b[1;32m<ipython-input-62-4897e6b4f583>\u001b[0m in \u001b[0;36m<module>\u001b[1;34m()\u001b[0m\n\u001b[0;32m      1\u001b[0m \u001b[0mplt\u001b[0m\u001b[1;33m.\u001b[0m\u001b[0mfigure\u001b[0m\u001b[1;33m(\u001b[0m\u001b[0mfigsize\u001b[0m\u001b[1;33m=\u001b[0m\u001b[1;33m(\u001b[0m\u001b[1;36m15\u001b[0m\u001b[1;33m,\u001b[0m\u001b[1;36m10\u001b[0m\u001b[1;33m)\u001b[0m\u001b[1;33m)\u001b[0m\u001b[1;33m\u001b[0m\u001b[0m\n\u001b[0;32m      2\u001b[0m \u001b[0max\u001b[0m \u001b[1;33m=\u001b[0m \u001b[0mplt\u001b[0m\u001b[1;33m.\u001b[0m\u001b[0mstem\u001b[0m\u001b[1;33m(\u001b[0m\u001b[0msentiment\u001b[0m\u001b[1;33m[\u001b[0m\u001b[1;34m'Hashtag'\u001b[0m\u001b[1;33m]\u001b[0m\u001b[1;33m,\u001b[0m \u001b[0msentiment\u001b[0m\u001b[1;33m[\u001b[0m\u001b[1;34m'Sentiment Score'\u001b[0m\u001b[1;33m]\u001b[0m\u001b[1;33m)\u001b[0m\u001b[1;33m\u001b[0m\u001b[0m\n\u001b[1;32m----> 3\u001b[1;33m \u001b[0max\u001b[0m\u001b[1;33m.\u001b[0m\u001b[0mset_title\u001b[0m\u001b[1;33m(\u001b[0m\u001b[1;34m'Twitter Hashtag Sentiment'\u001b[0m\u001b[1;33m)\u001b[0m\u001b[1;33m\u001b[0m\u001b[0m\n\u001b[0m\u001b[0;32m      4\u001b[0m \u001b[0max\u001b[0m\u001b[1;33m.\u001b[0m\u001b[0mset\u001b[0m\u001b[1;33m(\u001b[0m\u001b[0mxlabel\u001b[0m\u001b[1;33m=\u001b[0m\u001b[1;34m'Hashtags'\u001b[0m\u001b[1;33m,\u001b[0m \u001b[0mylabel\u001b[0m\u001b[1;33m=\u001b[0m\u001b[1;34m'Sentiment Score'\u001b[0m\u001b[1;33m)\u001b[0m\u001b[1;33m\u001b[0m\u001b[0m\n\u001b[0;32m      5\u001b[0m \u001b[0mplt\u001b[0m\u001b[1;33m.\u001b[0m\u001b[0mtight_layout\u001b[0m\u001b[1;33m(\u001b[0m\u001b[1;33m)\u001b[0m\u001b[1;33m\u001b[0m\u001b[0m\n",
      "\u001b[1;31mAttributeError\u001b[0m: 'StemContainer' object has no attribute 'set_title'"
     ]
    },
    {
     "data": {
      "image/png": "[encoded data removed]",
      "text/plain": [
       "<Figure size 1080x720 with 1 Axes>"
      ]
     },
     "metadata": {},
     "output_type": "display_data"
    }
   ],
   "source": []
  }
 ],
 "metadata": {
  "kernelspec": {
   "display_name": "Python 3",
   "language": "python",
   "name": "python3"
  },
  "language_info": {
   "codemirror_mode": {
    "name": "ipython",
    "version": 3
   },
   "file_extension": ".py",
   "mimetype": "text/x-python",
   "name": "python",
   "nbconvert_exporter": "python",
   "pygments_lexer": "ipython3",
   "version": "3.6.5"
  }
 },
 "nbformat": 4,
 "nbformat_minor": 2
}
